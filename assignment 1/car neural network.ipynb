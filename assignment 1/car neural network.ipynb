{
 "cells": [
  {
   "cell_type": "code",
   "execution_count": 9,
   "metadata": {},
   "outputs": [],
   "source": [
    "import numpy as np\n",
    "import pandas as pd\n",
    "from sklearn.model_selection import train_test_split\n",
    "from ucimlrepo import fetch_ucirepo, list_available_datasets #Import ucidatasets\n",
    "from sklearn.preprocessing import StandardScaler\n",
    "from sklearn.datasets import load_digits\n",
    "from sklearn.model_selection import train_test_split\n",
    "from sklearn.neural_network import MLPClassifier\n",
    "from sklearn.metrics import confusion_matrix, accuracy_score \n",
    "from sklearn.model_selection import LearningCurveDisplay, ShuffleSplit\n",
    "from sklearn.model_selection import learning_curve\n",
    "from sklearn.datasets import load_iris\n",
    "from sklearn.model_selection import ValidationCurveDisplay\n",
    "from matplotlib import pyplot as plt\n",
    "from sklearn.metrics import classification_report, confusion_matrix"
   ]
  },
  {
   "cell_type": "code",
   "execution_count": 2,
   "metadata": {},
   "outputs": [
    {
     "name": "stdout",
     "output_type": "stream",
     "text": [
      "{'uci_id': 19, 'name': 'Car Evaluation', 'repository_url': 'https://archive.ics.uci.edu/dataset/19/car+evaluation', 'data_url': 'https://archive.ics.uci.edu/static/public/19/data.csv', 'abstract': 'Derived from simple hierarchical decision model, this database may be useful for testing constructive induction and structure discovery methods.', 'area': 'Other', 'tasks': ['Classification'], 'characteristics': ['Multivariate'], 'num_instances': 1728, 'num_features': 6, 'feature_types': ['Categorical'], 'demographics': [], 'target_col': ['class'], 'index_col': None, 'has_missing_values': 'no', 'missing_values_symbol': None, 'year_of_dataset_creation': 1988, 'last_updated': 'Thu Aug 10 2023', 'dataset_doi': '10.24432/C5JP48', 'creators': ['Marko Bohanec'], 'intro_paper': {'title': 'Knowledge acquisition and explanation for multi-attribute decision making', 'authors': 'M. Bohanec, V. Rajkovič', 'published_in': '8th Intl Workshop on Expert Systems and their Applications, Avignon, France', 'year': 1988, 'url': 'https://www.semanticscholar.org/paper/KNOWLEDGE-ACQUISITION-AND-EXPLANATION-FOR-DECISION-Bohanec-Rajkovi%C4%8D/8bab443ae322ff47c3e609272bd93fd4650555bc', 'doi': None}, 'additional_info': {'summary': 'Car Evaluation Database was derived from a simple hierarchical decision model originally developed for the demonstration of DEX, M. Bohanec, V. Rajkovic: Expert system for decision making. Sistemica 1(1), pp. 145-157, 1990.). The model evaluates cars according to the following concept structure:\\r\\n\\r\\nCAR                      car acceptability\\r\\n. PRICE                  overall price\\r\\n. . buying               buying price\\r\\n. . maint                price of the maintenance\\r\\n. TECH                   technical characteristics\\r\\n. . COMFORT              comfort\\r\\n. . . doors              number of doors\\r\\n. . . persons            capacity in terms of persons to carry\\r\\n. . . lug_boot           the size of luggage boot\\r\\n. . safety               estimated safety of the car\\r\\n\\r\\nInput attributes are printed in lowercase. Besides the target concept (CAR), the model includes three intermediate concepts: PRICE, TECH, COMFORT. Every concept is in the original model related to its lower level descendants by a set of examples (for these examples sets see http://www-ai.ijs.si/BlazZupan/car.html).\\r\\n\\r\\nThe Car Evaluation Database contains examples with the structural information removed, i.e., directly relates CAR to the six input attributes: buying, maint, doors, persons, lug_boot, safety.\\r\\n\\r\\nBecause of known underlying concept structure, this database may be particularly useful for testing constructive induction and structure discovery methods.\\r\\n', 'purpose': None, 'funded_by': None, 'instances_represent': None, 'recommended_data_splits': None, 'sensitive_data': None, 'preprocessing_description': None, 'variable_info': 'buying:   vhigh, high, med, low.\\nmaint:    vhigh, high, med, low.\\ndoors:    2, 3, 4, 5more.\\npersons:  2, 4, more.\\nlug_boot: small, med, big.\\nsafety:   low, med, high.', 'citation': None}}\n",
      "       name     role         type demographic  \\\n",
      "0    buying  Feature  Categorical        None   \n",
      "1     maint  Feature  Categorical        None   \n",
      "2     doors  Feature  Categorical        None   \n",
      "3   persons  Feature  Categorical        None   \n",
      "4  lug_boot  Feature  Categorical        None   \n",
      "5    safety  Feature  Categorical        None   \n",
      "6     class   Target  Categorical        None   \n",
      "\n",
      "                                         description units missing_values  \n",
      "0                                       buying price  None             no  \n",
      "1                           price of the maintenance  None             no  \n",
      "2                                    number of doors  None             no  \n",
      "3              capacity in terms of persons to carry  None             no  \n",
      "4                           the size of luggage boot  None             no  \n",
      "5                        estimated safety of the car  None             no  \n",
      "6  evaulation level (unacceptable, acceptable, go...  None             no  \n"
     ]
    }
   ],
   "source": [
    "# fetch dataset \n",
    "car_evaluation = fetch_ucirepo(id=19) \n",
    "# data (as pandas dataframes) \n",
    "X = car_evaluation.data.features \n",
    "y = car_evaluation.data.targets \n",
    "\n",
    "# metadata \n",
    "print(car_evaluation.metadata) \n",
    "  \n",
    "# variable information \n",
    "print(car_evaluation.variables)\n",
    "\n",
    "y = np.ravel(y)\n",
    "X = pd.get_dummies(X)"
   ]
  },
  {
   "cell_type": "code",
   "execution_count": 8,
   "metadata": {},
   "outputs": [
    {
     "name": "stdout",
     "output_type": "stream",
     "text": [
      "Iteration 1, loss = 1.60544239\n",
      "Iteration 2, loss = 1.35171337\n",
      "Iteration 3, loss = 1.14485110\n",
      "Iteration 4, loss = 0.99218544\n",
      "Iteration 5, loss = 0.88555636\n",
      "Iteration 6, loss = 0.81565128\n",
      "Iteration 7, loss = 0.76627420\n",
      "Iteration 8, loss = 0.72643975\n",
      "Iteration 9, loss = 0.69133988\n",
      "Iteration 10, loss = 0.66101909\n",
      "Iteration 11, loss = 0.63177598\n",
      "Iteration 12, loss = 0.60421569\n",
      "Iteration 13, loss = 0.57791398\n",
      "Iteration 14, loss = 0.55314537\n",
      "Iteration 15, loss = 0.52999144\n",
      "Iteration 16, loss = 0.50728531\n",
      "Iteration 17, loss = 0.48690394\n",
      "Iteration 18, loss = 0.46762109\n",
      "Iteration 19, loss = 0.44948814\n",
      "Iteration 20, loss = 0.43227148\n",
      "Iteration 21, loss = 0.41632160\n",
      "Iteration 22, loss = 0.40130846\n",
      "Iteration 23, loss = 0.38724856\n",
      "Iteration 24, loss = 0.37394624\n",
      "Iteration 25, loss = 0.36098260\n",
      "Iteration 26, loss = 0.34914045\n",
      "Iteration 27, loss = 0.33781519\n",
      "Iteration 28, loss = 0.32733798\n",
      "Iteration 29, loss = 0.31690809\n",
      "Iteration 30, loss = 0.30725443\n",
      "Iteration 31, loss = 0.29845006\n",
      "Iteration 32, loss = 0.28954511\n",
      "Iteration 33, loss = 0.28200946\n",
      "Iteration 34, loss = 0.27438539\n",
      "Iteration 35, loss = 0.26689652\n",
      "Iteration 36, loss = 0.25994488\n",
      "Iteration 37, loss = 0.25345761\n",
      "Iteration 38, loss = 0.24720569\n",
      "Iteration 39, loss = 0.24134435\n",
      "Iteration 40, loss = 0.23550619\n",
      "Iteration 41, loss = 0.23009334\n",
      "Iteration 42, loss = 0.22500495\n",
      "Iteration 43, loss = 0.21990702\n",
      "Iteration 44, loss = 0.21516860\n",
      "Iteration 45, loss = 0.21078337\n",
      "Iteration 46, loss = 0.20643462\n",
      "Iteration 47, loss = 0.20231240\n",
      "Iteration 48, loss = 0.19835879\n",
      "Iteration 49, loss = 0.19466315\n",
      "Iteration 50, loss = 0.19084633\n",
      "Iteration 51, loss = 0.18729051\n",
      "Iteration 52, loss = 0.18402787\n",
      "Iteration 53, loss = 0.18075267\n",
      "Iteration 54, loss = 0.17763117\n",
      "Iteration 55, loss = 0.17459585\n",
      "Iteration 56, loss = 0.17174713\n",
      "Iteration 57, loss = 0.16896400\n",
      "Iteration 58, loss = 0.16628353\n",
      "Iteration 59, loss = 0.16366582\n",
      "Iteration 60, loss = 0.16115635\n",
      "Iteration 61, loss = 0.15860968\n",
      "Iteration 62, loss = 0.15632690\n",
      "Iteration 63, loss = 0.15426999\n",
      "Iteration 64, loss = 0.15183654\n",
      "Iteration 65, loss = 0.14986334\n",
      "Iteration 66, loss = 0.14751503\n",
      "Iteration 67, loss = 0.14525942\n",
      "Iteration 68, loss = 0.14331115\n",
      "Iteration 69, loss = 0.14155387\n",
      "Iteration 70, loss = 0.13931341\n",
      "Iteration 71, loss = 0.13756506\n",
      "Iteration 72, loss = 0.13570066\n",
      "Iteration 73, loss = 0.13388339\n",
      "Iteration 74, loss = 0.13202331\n",
      "Iteration 75, loss = 0.13048664\n",
      "Iteration 76, loss = 0.12873811\n",
      "Iteration 77, loss = 0.12748633\n",
      "Iteration 78, loss = 0.12582269\n",
      "Iteration 79, loss = 0.12393157\n",
      "Iteration 80, loss = 0.12222704\n",
      "Iteration 81, loss = 0.12093949\n",
      "Iteration 82, loss = 0.11923685\n",
      "Iteration 83, loss = 0.11783551\n",
      "Iteration 84, loss = 0.11633269\n",
      "Iteration 85, loss = 0.11502840\n",
      "Iteration 86, loss = 0.11407648\n",
      "Iteration 87, loss = 0.11223220\n",
      "Iteration 88, loss = 0.11079846\n",
      "Iteration 89, loss = 0.10941767\n",
      "Iteration 90, loss = 0.10778400\n",
      "Accuracy for Neural Network is: 96.53179190751445\n",
      "Confusion Matrix\n",
      "[[ 81   2   0   0]\n",
      " [  2   9   0   2]\n",
      " [  4   0 237   0]\n",
      " [  2   0   0   7]]\n"
     ]
    },
    {
     "name": "stderr",
     "output_type": "stream",
     "text": [
      "c:\\Users\\Drewn\\miniconda3\\Lib\\site-packages\\sklearn\\neural_network\\_multilayer_perceptron.py:691: ConvergenceWarning: Stochastic Optimizer: Maximum iterations (90) reached and the optimization hasn't converged yet.\n",
      "  warnings.warn(\n"
     ]
    }
   ],
   "source": [
    "\n",
    "# Splitting the data into tst and train\n",
    "# 80 - 20 Split\n",
    "X_train, X_test, y_train, y_test = train_test_split(X, y, test_size=0.20, random_state=4)\n",
    "\n",
    "# Making the Neural Network Classifier\n",
    "NN = MLPClassifier(max_iter=90,tol=1e-8, verbose=True)\n",
    "\n",
    "# Training the model on the training data and labels\n",
    "NN.fit(X_train, y_train)\n",
    "\n",
    "# Testing the model i.e. predicting the labels of the test data.\n",
    "y_pred = NN.predict(X_test)\n",
    "\n",
    "# Evaluating the results of the model\n",
    "accuracy = accuracy_score(y_test,y_pred)*100\n",
    "confusion_mat = confusion_matrix(y_test,y_pred)\n",
    "\n",
    "# Printing the Results\n",
    "print(\"Accuracy for Neural Network is:\",accuracy)\n",
    "print(\"Confusion Matrix\")\n",
    "print(confusion_mat)"
   ]
  },
  {
   "cell_type": "code",
   "execution_count": 10,
   "metadata": {},
   "outputs": [
    {
     "name": "stdout",
     "output_type": "stream",
     "text": [
      "              precision    recall  f1-score   support\n",
      "\n",
      "         acc       0.91      0.98      0.94        83\n",
      "        good       0.82      0.69      0.75        13\n",
      "       unacc       1.00      0.98      0.99       241\n",
      "       vgood       0.78      0.78      0.78         9\n",
      "\n",
      "    accuracy                           0.97       346\n",
      "   macro avg       0.88      0.86      0.87       346\n",
      "weighted avg       0.97      0.97      0.97       346\n",
      "\n"
     ]
    }
   ],
   "source": [
    "print(classification_report(y_test,y_pred))"
   ]
  },
  {
   "cell_type": "code",
   "execution_count": 6,
   "metadata": {},
   "outputs": [
    {
     "data": {
      "text/plain": [
       "<module 'matplotlib.pyplot' from 'C:\\\\Users\\\\Drewn\\\\AppData\\\\Roaming\\\\Python\\\\Python311\\\\site-packages\\\\matplotlib\\\\pyplot.py'>"
      ]
     },
     "execution_count": 6,
     "metadata": {},
     "output_type": "execute_result"
    },
    {
     "data": {
      "image/png": "[encoded data removed]",
      "text/plain": [
       "<Figure size 640x480 with 2 Axes>"
      ]
     },
     "metadata": {},
     "output_type": "display_data"
    }
   ],
   "source": [
    "def plot_learning_curve(estimator, X, y, ax=None, ylim=(0.5, 1.01), cv=None, n_jobs=4, train_sizes=np.linspace(.1, 1.0, 5)):\n",
    "\n",
    "    train_sizes, train_scores, test_scores = \\\n",
    "        learning_curve(estimator, X, y, cv=cv, n_jobs=n_jobs, train_sizes=train_sizes)\n",
    "              \n",
    "    train_scores_mean = np.mean(train_scores, axis=1)\n",
    "    train_scores_std = np.std(train_scores, axis=1)\n",
    "    test_scores_mean = np.mean(test_scores, axis=1)\n",
    "    test_scores_std = np.std(test_scores, axis=1)\n",
    "\n",
    "    # Plot learning curve\n",
    "    if ylim is not None:\n",
    "        ax.set_ylim(*ylim)\n",
    "    ax.set_xlabel(\"Training examples\")\n",
    "    ax.set_ylabel(\"Score\")\n",
    "    ax.plot(train_sizes, train_scores_mean, 'o-', color=\"r\", label=\"Training score\")\n",
    "    ax.plot(train_sizes, test_scores_mean, 'o-', color=\"g\", label=\"Cross-validation score\")\n",
    "    ax.legend(loc=\"best\")\n",
    "\n",
    "    return plt\n",
    "\n",
    "fig, (ax1, ax2) = plt.subplots(1, 2)\n",
    "cv = ShuffleSplit(n_splits=10, test_size=0.2, random_state=0)\n",
    "plot_learning_curve(NN, X, y, ax = ax1, cv=cv, train_sizes=np.linspace(.1, 1.0, 5))"
   ]
  }
 ],
 "metadata": {
  "kernelspec": {
   "display_name": "base",
   "language": "python",
   "name": "python3"
  },
  "language_info": {
   "codemirror_mode": {
    "name": "ipython",
    "version": 3
   },
   "file_extension": ".py",
   "mimetype": "text/x-python",
   "name": "python",
   "nbconvert_exporter": "python",
   "pygments_lexer": "ipython3",
   "version": "3.11.5"
  }
 },
 "nbformat": 4,
 "nbformat_minor": 2
}
